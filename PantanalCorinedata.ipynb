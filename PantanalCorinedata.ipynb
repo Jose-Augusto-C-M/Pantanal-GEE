{
 "cells": [
  {
   "cell_type": "markdown",
   "metadata": {},
   "source": [
    "<a href=\"https://githubtocolab.com/giswqs/geemap/blob/master/examples/notebooks/10_shapefiles.ipynb\" target=\"_parent\"><img src=\"https://colab.research.google.com/assets/colab-badge.svg\" alt=\"Open in Colab\"/></a>\n",
    "\n",
    "Uncomment the following line to install [geemap](https://geemap.org) if needed."
   ]
  },
  {
   "cell_type": "code",
   "execution_count": 1,
   "metadata": {
    "scrolled": true
   },
   "outputs": [
    {
     "name": "stdout",
     "output_type": "stream",
     "text": [
      "Populating the interactive namespace from numpy and matplotlib\n"
     ]
    }
   ],
   "source": [
    "import geemap\n",
    "import ee\n",
    "from geemap import cartoee\n",
    "import os\n",
    "import pandas as pd\n",
    "import cartopy.crs as ccrs\n",
    "%pylab inline"
   ]
  },
  {
   "cell_type": "code",
   "execution_count": 2,
   "metadata": {},
   "outputs": [],
   "source": [
    "ee.Initialize()"
   ]
  },
  {
   "cell_type": "code",
   "execution_count": 3,
   "metadata": {
    "scrolled": false
   },
   "outputs": [
    {
     "data": {
      "application/vnd.jupyter.widget-view+json": {
       "model_id": "cd23dca9cd7d41de8388f073f6f7f281",
       "version_major": 2,
       "version_minor": 0
      },
      "text/plain": [
       "Map(center=[-16, -56], controls=(WidgetControl(options=['position'], widget=HBox(children=(ToggleButton(value=…"
      ]
     },
     "metadata": {},
     "output_type": "display_data"
    }
   ],
   "source": [
    "Map = geemap.Map(center=(-16,-56),zoom=4)\n",
    "Map"
   ]
  },
  {
   "cell_type": "code",
   "execution_count": 4,
   "metadata": {},
   "outputs": [],
   "source": [
    "Pantanal_shp = '/home/joseacm/projetos/dhonatam/livro1/shp/biome_border.shp'\n",
    "Pantanal = geemap.shp_to_ee(Pantanal_shp)\n",
    "Map.addLayer(Pantanal, {}, 'Pantanal Border')"
   ]
  },
  {
   "cell_type": "code",
   "execution_count": 5,
   "metadata": {},
   "outputs": [],
   "source": [
    "Landcover = ee.Image(\"COPERNICUS/Landcover/100m/Proba-V-C3/Global/2015\").select('discrete_classification')\n",
    "clipped_Landcover1 = Landcover.clip(Pantanal)\n",
    "Map.addLayer(clipped_Landcover1, {}, \"Land Cover\")"
   ]
  },
  {
   "cell_type": "code",
   "execution_count": 6,
   "metadata": {},
   "outputs": [
    {
     "name": "stdout",
     "output_type": "stream",
     "text": [
      "NLCD\n",
      "NWI\n",
      "MODIS/051/MCD12Q1\n",
      "GLOBCOVER\n",
      "JAXA/PALSAR\n",
      "MODIS/006/MCD12Q1\n",
      "Oxford\n",
      "AAFC/ACI\n",
      "COPERNICUS/CORINE/V20/100m\n",
      "COPERNICUS/Landcover/100m/Proba-V/Global\n",
      "USDA/NASS/CDL\n"
     ]
    }
   ],
   "source": [
    "legends = geemap.builtin_legends\n",
    "for legend in legends:\n",
    "    print(legend)"
   ]
  },
  {
   "cell_type": "code",
   "execution_count": 7,
   "metadata": {
    "scrolled": true
   },
   "outputs": [
    {
     "data": {
      "application/vnd.jupyter.widget-view+json": {
       "model_id": "cd23dca9cd7d41de8388f073f6f7f281",
       "version_major": 2,
       "version_minor": 0
      },
      "text/plain": [
       "Map(center=[-19, -56], controls=(WidgetControl(options=['position'], widget=HBox(children=(ToggleButton(value=…"
      ]
     },
     "metadata": {},
     "output_type": "display_data"
    }
   ],
   "source": [
    "ee_class_table = \"\"\"\n",
    "\n",
    "Value\tColor\tDescription\n",
    "1.1.\tFA0000\tPadrão Urbano\n",
    "2.\tF096FF\tÁreas agrícolas\n",
    "3.1. \t007800\tFlorestas\n",
    "3.1.1. \t009900\tFloresta Latifoliada\n",
    "3.1.1.\t00CC00\tFloresta Latifoliada\n",
    "3.1.3. \t648C00\tFloresta Mista\n",
    "3.2.1.\t8DB400\tPradaria Natural\n",
    "3.2.2.\tFFBB22\tVegetação Arbustiva (moors e heathland)\n",
    "3.2.4.\tFFFF4C\tÁrea com vegetação arbustiva em evolução\n",
    "4.1.1.\t0096A0\tPântanos internos\n",
    "5.1.\t0032C8\tÁguas continentais\n",
    "\"\"\"\n",
    "landcover = ee.Image('COPERNICUS/Landcover/100m/Proba-V-C3/Global/2019') \\\n",
    "    .select('discrete_classification')\n",
    "\n",
    "clipped_Landcover = landcover.clip(Pantanal)\n",
    "\n",
    "Map.setCenter(-56,-19, 6.5)\n",
    "legend_dict = geemap.legend_from_ee(ee_class_table)\n",
    "Map.add_legend(legend_title=\"Cobertura do solo\", legend_dict=legend_dict)\n",
    "Map.addLayer(clipped_Landcover, {}, 'CORINE Land Cover')\n",
    "\n",
    "\n",
    "Map"
   ]
  },
  {
   "cell_type": "code",
   "execution_count": null,
   "metadata": {},
   "outputs": [],
   "source": [
    "out_dir = os.path.join(os.path.expanduser('~'), 'Downloads')\n",
    "corine_stats1 = os.path.join(out_dir, 'corine_stats1.csv')  \n",
    "\n",
    "if not os.path.exists(out_dir):\n",
    "    os.makedirs(out_dir)\n",
    "    \n",
    "statistics_type can be either 'SUM' or 'PERCENTAGE'\n",
    "denominator can be used to convert square meters to other areal units, such as square kilimeters\n",
    "geemap.zonal_statistics_by_group(clipped_Landcover1, Pantanal, corine_stats1, statistics_type='PERCENTAGE', denominator=1000000, decimal_places=2)"
   ]
  }
 ],
 "metadata": {
  "hide_input": false,
  "kernelspec": {
   "display_name": "Python 3",
   "language": "python",
   "name": "python3"
  },
  "language_info": {
   "codemirror_mode": {
    "name": "ipython",
    "version": 3
   },
   "file_extension": ".py",
   "mimetype": "text/x-python",
   "name": "python",
   "nbconvert_exporter": "python",
   "pygments_lexer": "ipython3",
   "version": "3.7.9"
  },
  "toc": {
   "base_numbering": 1,
   "nav_menu": {},
   "number_sections": true,
   "sideBar": true,
   "skip_h1_title": true,
   "title_cell": "Table of Contents",
   "title_sidebar": "Table of Contents",
   "toc_cell": false,
   "toc_position": {},
   "toc_section_display": true,
   "toc_window_display": true
  },
  "varInspector": {
   "cols": {
    "lenName": 16,
    "lenType": 16,
    "lenVar": 40
   },
   "kernels_config": {
    "python": {
     "delete_cmd_postfix": "",
     "delete_cmd_prefix": "del ",
     "library": "var_list.py",
     "varRefreshCmd": "print(var_dic_list())"
    },
    "r": {
     "delete_cmd_postfix": ") ",
     "delete_cmd_prefix": "rm(",
     "library": "var_list.r",
     "varRefreshCmd": "cat(var_dic_list()) "
    }
   },
   "types_to_exclude": [
    "module",
    "function",
    "builtin_function_or_method",
    "instance",
    "_Feature"
   ],
   "window_display": false
  }
 },
 "nbformat": 4,
 "nbformat_minor": 4
}
